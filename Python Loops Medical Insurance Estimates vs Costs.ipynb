{
 "cells": [
  {
   "cell_type": "markdown",
   "id": "7efa34ac",
   "metadata": {},
   "source": [
    "# Python Loops: Medical Insurance Estimates vs. Costs Project"
   ]
  },
  {
   "cell_type": "markdown",
   "id": "3b8c8fc2",
   "metadata": {},
   "source": [
    "You are interested in analyzing medical insurance cost data efficiently without writing repetitive code.\n",
    "\n",
    "In this project, you will use your new knowledge of Python loops to iterate through and analyze medical insurance cost data.\n",
    "\n",
    "Let's get started!"
   ]
  },
  {
   "cell_type": "markdown",
   "id": "b2d3f72c",
   "metadata": {},
   "source": [
    "## Creating a For Loop"
   ]
  },
  {
   "cell_type": "markdown",
   "id": "4af76082",
   "metadata": {},
   "source": [
    "1. First, let's take a look at three lists in the code block below:\n",
    "   - `names` stores the names of seven individuals.\n",
    "   - `estimated_insurance_costs` stores the estimated medical insurance costs for the individuals.\n",
    "   - `actual_insurance_costs` stores the actual insurance costs paid by the individuals.\n",
    "   \n",
    "   We want to calculate the average insurance cost each person paid. We'll start by adding up all of the insurance costs.\n",
    "   \n",
    "   Create a variable `total_cost` and initialize it to `0`."
   ]
  },
  {
   "cell_type": "code",
   "execution_count": 2,
   "id": "942629ef",
   "metadata": {},
   "outputs": [],
   "source": [
    "names = [\"Judith\", \"Abel\", \"Tyson\", \"Martha\", \"Beverley\", \"David\", \"Anabel\"]\n",
    "estimated_insurance_costs = [1000.0, 2000.0, 3000.0, 4000.0, 5000.0, 6000.0, 7000.0]\n",
    "actual_insurance_costs = [1100.0, 2200.0, 3300.0, 4400.0, 5500.0, 6600.0, 7700.0]\n"
   ]
  },
  {
   "cell_type": "markdown",
   "id": "acfa961f",
   "metadata": {},
   "source": [
    "2. Use a `for` loop to iterate through `actual_insurance_costs` and add each insurance cost to the variable `total_cost`."
   ]
  },
  {
   "cell_type": "code",
   "execution_count": null,
   "id": "7572afff",
   "metadata": {},
   "outputs": [],
   "source": [
    "total_cost = 0\n",
    "for insurance_cost in actual_insurance_costs:\n",
    "  total_cost += insurance_cost"
   ]
  },
  {
   "cell_type": "markdown",
   "id": "3bbc62d7",
   "metadata": {},
   "source": [
    "3. After the `for` loop, create a variable called `average_cost` that stores the `total_cost` divided by the length of the `actual_insurance_costs` list."
   ]
  },
  {
   "cell_type": "code",
   "execution_count": null,
   "id": "bb393759",
   "metadata": {},
   "outputs": [],
   "source": [
    "average_cost = total_cost / len(actual_insurance_costs)\n"
   ]
  },
  {
   "cell_type": "markdown",
   "id": "9020ae01",
   "metadata": {},
   "source": [
    "4. Print `average_cost` with the following message:\n",
    "\n",
    "   ```\n",
    "   Average Insurance Cost: <average_cost> dollars.\n",
    "   ```"
   ]
  },
  {
   "cell_type": "code",
   "execution_count": null,
   "id": "cb2abd2f",
   "metadata": {},
   "outputs": [],
   "source": [
    "print(f\"Average Insurance Cost: {average_cost} dollars.\")"
   ]
  },
  {
   "cell_type": "markdown",
   "id": "8bd4231a",
   "metadata": {},
   "source": [
    "## Using Range in Loops"
   ]
  },
  {
   "cell_type": "markdown",
   "id": "643ebe21",
   "metadata": {},
   "source": [
    "5. For each individual in `names`, we want to determine whether their insurance cost is above or below average.\n",
    "\n",
    "   Write a `for` loop with variable `i` that goes from `0` to `len(names)`."
   ]
  },
  {
   "cell_type": "markdown",
   "id": "9494673d",
   "metadata": {},
   "source": [
    "6. Inside of the `for` loop, do the following:\n",
    "   - Create a variable `name`, which stores `names[i]`.\n",
    "   - Create a variable `insurance_cost`, which stores `actual_insurance_costs[i]`.\n",
    "   - Print out the insurance cost for each individual, with the following message:\n",
    "   ```\n",
    "   The insurance cost for <name> is <insurance_cost> dollars.\n",
    "   ```"
   ]
  },
  {
   "cell_type": "code",
   "execution_count": null,
   "id": "7f9065e5",
   "metadata": {},
   "outputs": [],
   "source": [
    "for i in range(len(names)):\n",
    "  name = names[i]\n",
    "  insurance_cost = actual_insurance_costs[i]\n",
    "  print(f\"The insurance cost for {name} is {insurance_cost} dollars.\")"
   ]
  },
  {
   "cell_type": "markdown",
   "id": "4f76f415",
   "metadata": {},
   "source": [
    "7. Observe the result above.\n",
    "\n",
    "   You should see the insurance costs for each of the seven individuals in `names`. The `for` loop iterated through the entire list and printed out the insurance cost for each individual."
   ]
  },
  {
   "cell_type": "markdown",
   "id": "ca6c71d9",
   "metadata": {},
   "source": [
    "## Conditions inside a Loop"
   ]
  },
  {
   "cell_type": "markdown",
   "id": "a6570594",
   "metadata": {},
   "source": [
    "8. Inside of the `for` loop, use `if`, `elif`, `else` statements after the `print` statement to check whether the insurance cost is above, below, or equal to the average. Print out messages for each case:\n",
    "   - When `insurance_cost` is higher than the average, print out the following:\n",
    "   ```\n",
    "   The insurance cost for <name> is above average.\n",
    "   ```\n",
    "   - When `insurance_cost` is lower than the average, print out the following:\n",
    "   ```\n",
    "   The insurance cost for <name> is below average.\n",
    "   ```\n",
    "   - Otherwise, print out the following:\n",
    "   ```\n",
    "   The insurance cost for <name> is equal to the average.\n",
    "   ```"
   ]
  },
  {
   "cell_type": "code",
   "execution_count": null,
   "id": "93ffface",
   "metadata": {},
   "outputs": [],
   "source": [
    "for i in range(len(names)):\n",
    "  name = names[i]\n",
    "  insurance_cost = actual_insurance_costs[i]\n",
    "  print(f\"The insurance cost for {name} is {insurance_cost} dollars.\")\n",
    "  if insurance_cost > average_cost:\n",
    "    print(f\"The insurance cost for {name} is above average.\")\n",
    "  elif insurance_cost < average_cost:\n",
    "    print(f\"he insurance cost for {name} is below average.\")\n",
    "  else:\n",
    "    print(f\"The insurance cost for {name} is equal to the average.\")"
   ]
  },
  {
   "cell_type": "markdown",
   "id": "e62cd4bb",
   "metadata": {},
   "source": [
    "9. Observe the output above.\n",
    "\n",
    "   You should see messages indicating the insurance cost for each of the seven individuals and where their insurance cost stands relative to the average."
   ]
  },
  {
   "cell_type": "markdown",
   "id": "82e664df",
   "metadata": {},
   "source": [
    "## Creating a List Comprehension"
   ]
  },
  {
   "cell_type": "markdown",
   "id": "dde1e68d",
   "metadata": {},
   "source": [
    "10. If you look closely at `actual_insurance_costs` and `estimated_insurance_costs`, you will notice that each of the actual insurance costs is 10% higher than the estimated insurance costs.\n",
    " \n",
    "    Using a list comprehension, create a new list called `updated_estimated_costs`, which has each element in `estimated_insurance_costs` multiplied by `11/10`."
   ]
  },
  {
   "cell_type": "code",
   "execution_count": null,
   "id": "b5602da4",
   "metadata": {},
   "outputs": [],
   "source": [
    " updated_estimated_costs = [estimated_cost * 11/10 for estimated_cost in estimated_insurance_costs]"
   ]
  },
  {
   "cell_type": "markdown",
   "id": "eeb071e3",
   "metadata": {},
   "source": [
    "11. Print `updated_estimated_costs`.\n",
    "\n",
    "    You should see that the list now looks the same as `actual_insurance_costs`."
   ]
  },
  {
   "cell_type": "code",
   "execution_count": null,
   "id": "6dc117e9",
   "metadata": {},
   "outputs": [],
   "source": [
    "print(updated_estimated_costs)"
   ]
  }
 ],
 "metadata": {
  "kernelspec": {
   "display_name": "Python 3 (ipykernel)",
   "language": "python",
   "name": "python3"
  },
  "language_info": {
   "codemirror_mode": {
    "name": "ipython",
    "version": 3
   },
   "file_extension": ".py",
   "mimetype": "text/x-python",
   "name": "python",
   "nbconvert_exporter": "python",
   "pygments_lexer": "ipython3",
   "version": "3.7.11"
  }
 },
 "nbformat": 4,
 "nbformat_minor": 5
}
